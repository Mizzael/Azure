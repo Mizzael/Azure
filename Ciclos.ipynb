{
 "cells": [
  {
   "cell_type": "markdown",
   "metadata": {},
   "source": [
    "## Ejercicio 1: Creación de un bucle \"while\""
   ]
  },
  {
   "cell_type": "code",
   "execution_count": 2,
   "metadata": {},
   "outputs": [
    {
     "name": "stdout",
     "output_type": "stream",
     "text": [
      "['Jupiter', 'Marte', 'Saturno']\n"
     ]
    },
    {
     "ename": "TypeError",
     "evalue": "list indices must be integers or slices, not list",
     "output_type": "error",
     "traceback": [
      "\u001b[1;31m---------------------------------------------------------------------------\u001b[0m",
      "\u001b[1;31mTypeError\u001b[0m                                 Traceback (most recent call last)",
      "\u001b[1;32md:\\AssetsMissael\\Jupyter\\Ciclos.ipynb Cell 2'\u001b[0m in \u001b[0;36m<cell line: 26>\u001b[1;34m()\u001b[0m\n\u001b[0;32m     <a href='vscode-notebook-cell:/d%3A/AssetsMissael/Jupyter/Ciclos.ipynb#ch0000002?line=20'>21</a>\u001b[0m \u001b[39m# Ejercicio 2: Creación de un ciclo \"for\"\u001b[39;00m\n\u001b[0;32m     <a href='vscode-notebook-cell:/d%3A/AssetsMissael/Jupyter/Ciclos.ipynb#ch0000002?line=21'>22</a>\u001b[0m \u001b[39m# Crea un ciclo for para iterar sobre la lista planets. \u001b[39;00m\n\u001b[0;32m     <a href='vscode-notebook-cell:/d%3A/AssetsMissael/Jupyter/Ciclos.ipynb#ch0000002?line=22'>23</a>\u001b[0m \u001b[39m# Puedes usar como nombre de la variable planet para cada planeta. \u001b[39;00m\n\u001b[0;32m     <a href='vscode-notebook-cell:/d%3A/AssetsMissael/Jupyter/Ciclos.ipynb#ch0000002?line=23'>24</a>\u001b[0m \u001b[39m# Dentro del ciclo for, recuerda utilizar print para mostrar cada planet.\u001b[39;00m\n\u001b[0;32m     <a href='vscode-notebook-cell:/d%3A/AssetsMissael/Jupyter/Ciclos.ipynb#ch0000002?line=25'>26</a>\u001b[0m \u001b[39mfor\u001b[39;00m Planet \u001b[39min\u001b[39;00m Planets:\n\u001b[1;32m---> <a href='vscode-notebook-cell:/d%3A/AssetsMissael/Jupyter/Ciclos.ipynb#ch0000002?line=26'>27</a>\u001b[0m     \u001b[39mprint\u001b[39m(\u001b[39mf\u001b[39m\u001b[39m\"\u001b[39m\u001b[39mEl Planeta 1 es: \u001b[39m\u001b[39m{\u001b[39;00mPlanets[Planets]\u001b[39m}\u001b[39;00m\u001b[39m\"\u001b[39m)\n",
      "\u001b[1;31mTypeError\u001b[0m: list indices must be integers or slices, not list"
     ]
    }
   ],
   "source": [
    "#Comienza agregando dos variables, una para la entrada del usuario, con el nombre new_planet, y otra variable para la lista de planetas, denominada planets.\n",
    "\n",
    "\n",
    "# Comenzando con las variables que acabas de crear, crearás un ciclo while. El ciclo while se ejecutará mientras el new_planet no sea igual a la palabra 'done'.\n",
    "# Dentro del ciclo, comprobarás si la variable new_planet contiene un valor, que debería ser el nombre de un planeta. Esta es una forma rápida de ver si el usuario ha introducido un valor. Si lo han hecho, tu código agregará (append) ese valor a la variable planets.\n",
    "# Finalmente, usarás input para solicitar al usuario que ingrese un nuevo nombre de planeta o que escriba done si ha terminado de ingresar nombres de planeta. Almacenará el valor de input en la variable new_planet.\n",
    "Planets = []\n",
    "while True:\n",
    "    \n",
    "    New_planet = input(\"Ingresa el nombre del planeta: \")\n",
    "    if New_planet == '':\n",
    "       print(\"Debes agregar un valor real\")\n",
    "    elif New_planet.lower() == \"done\":\n",
    "        break\n",
    "    elif New_planet:\n",
    "        Planets.append(New_planet)\n",
    "    else:\n",
    "        break\n",
    "print(Planets)"
   ]
  },
  {
   "cell_type": "markdown",
   "metadata": {},
   "source": [
    "## Ejercicio 2: Creación de un ciclo \"for\""
   ]
  },
  {
   "cell_type": "code",
   "execution_count": 1,
   "metadata": {},
   "outputs": [
    {
     "ename": "NameError",
     "evalue": "name 'Planets' is not defined",
     "output_type": "error",
     "traceback": [
      "\u001b[1;31m---------------------------------------------------------------------------\u001b[0m",
      "\u001b[1;31mNameError\u001b[0m                                 Traceback (most recent call last)",
      "\u001b[1;32md:\\AssetsMissael\\Jupyter\\Ciclos.ipynb Cell 4'\u001b[0m in \u001b[0;36m<cell line: 5>\u001b[1;34m()\u001b[0m\n\u001b[0;32m      <a href='vscode-notebook-cell:/d%3A/AssetsMissael/Jupyter/Ciclos.ipynb#ch0000004?line=0'>1</a>\u001b[0m \u001b[39m# Crea un ciclo for para iterar sobre la lista planets. \u001b[39;00m\n\u001b[0;32m      <a href='vscode-notebook-cell:/d%3A/AssetsMissael/Jupyter/Ciclos.ipynb#ch0000004?line=1'>2</a>\u001b[0m \u001b[39m# Puedes usar como nombre de la variable planet para cada planeta. \u001b[39;00m\n\u001b[0;32m      <a href='vscode-notebook-cell:/d%3A/AssetsMissael/Jupyter/Ciclos.ipynb#ch0000004?line=2'>3</a>\u001b[0m \u001b[39m# Dentro del ciclo for, recuerda utilizar print para mostrar cada planet.\u001b[39;00m\n\u001b[1;32m----> <a href='vscode-notebook-cell:/d%3A/AssetsMissael/Jupyter/Ciclos.ipynb#ch0000004?line=4'>5</a>\u001b[0m \u001b[39mprint\u001b[39m(Planets)\n",
      "\u001b[1;31mNameError\u001b[0m: name 'Planets' is not defined"
     ]
    }
   ],
   "source": [
    "# Crea un ciclo for para iterar sobre la lista planets. \n",
    "# Puedes usar como nombre de la variable planet para cada planeta. \n",
    "# Dentro del ciclo for, recuerda utilizar print para mostrar cada planet.\n",
    "\n",
    "for Planet in Planets:\n",
    "    print(Planet)"
   ]
  }
 ],
 "metadata": {
  "interpreter": {
   "hash": "2469a70536e4d2335a2ea8907942d0699c37342a371ac185bdb5b0aa6f073890"
  },
  "kernelspec": {
   "display_name": "Python 3.10.4 64-bit",
   "language": "python",
   "name": "python3"
  },
  "language_info": {
   "codemirror_mode": {
    "name": "ipython",
    "version": 3
   },
   "file_extension": ".py",
   "mimetype": "text/x-python",
   "name": "python",
   "nbconvert_exporter": "python",
   "pygments_lexer": "ipython3",
   "version": "3.10.4"
  },
  "orig_nbformat": 4
 },
 "nbformat": 4,
 "nbformat_minor": 2
}
