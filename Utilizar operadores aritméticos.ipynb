{
 "cells": [
  {
   "cell_type": "markdown",
   "metadata": {},
   "source": [
    "## Ejercicio 1"
   ]
  },
  {
   "cell_type": "code",
   "execution_count": 18,
   "metadata": {},
   "outputs": [
    {
     "name": "stdout",
     "output_type": "stream",
     "text": [
      "Distancia entre la tierra y Jupites: 628949330 km\n",
      "Distancia entre la tierra y Jupites: 390577533.93 mi\n"
     ]
    }
   ],
   "source": [
    "# Exploremos cómo podemos crear un programa que pueda calcular la distancia entre dos planetas. \n",
    "# Comenzaremos usando dos distancias de planetas: Tierra (149.597.870 km) y Júpiter (778.547.200 km)\n",
    "Planeta1 = 149597870 #km\n",
    "Planeta2 = 778547200 #km\n",
    "print(f'Distancia entre la tierra y Jupites: {abs((Planeta1-Planeta2))} km\\nDistancia entre la tierra y Jupites: {abs((Planeta1-Planeta2)*0.621)} mi')"
   ]
  },
  {
   "cell_type": "markdown",
   "metadata": {},
   "source": [
    "## Ejercio 2"
   ]
  },
  {
   "cell_type": "code",
   "execution_count": 22,
   "metadata": {},
   "outputs": [
    {
     "name": "stdout",
     "output_type": "stream",
     "text": [
      "Distancia entre la tierra y Jupites: 24691357 km\n",
      "Distancia entre la tierra y Jupites: 15333332.697 mi\n"
     ]
    }
   ],
   "source": [
    "#Usando input, agrega el código para leer la distancia del sol para cada planeta, considerando 2 planetas.\n",
    "\n",
    "Planeta1 = input(\"Planeta 1: \")\n",
    "Planeta2 = input(\"Planeta 2: \")\n",
    "\n",
    "print(f'Distancia entre la tierra y Jupites: {abs((int(Planeta1)-int(Planeta2)))} km\\nDistancia entre la tierra y Jupites: {abs((int(Planeta1)-int(Planeta2))*0.621)} mi')"
   ]
  }
 ],
 "metadata": {
  "interpreter": {
   "hash": "2469a70536e4d2335a2ea8907942d0699c37342a371ac185bdb5b0aa6f073890"
  },
  "kernelspec": {
   "display_name": "Python 3.10.4 64-bit",
   "language": "python",
   "name": "python3"
  },
  "language_info": {
   "codemirror_mode": {
    "name": "ipython",
    "version": 3
   },
   "file_extension": ".py",
   "mimetype": "text/x-python",
   "name": "python",
   "nbconvert_exporter": "python",
   "pygments_lexer": "ipython3",
   "version": "3.10.4"
  },
  "orig_nbformat": 4
 },
 "nbformat": 4,
 "nbformat_minor": 2
}
